{
 "cells": [
  {
   "cell_type": "code",
   "execution_count": null,
   "metadata": {},
   "outputs": [],
   "source": [
    "pip install pandas"
   ]
  },
  {
   "cell_type": "code",
   "execution_count": 2,
   "metadata": {},
   "outputs": [],
   "source": [
    "import pandas as pd"
   ]
  },
  {
   "cell_type": "code",
   "execution_count": null,
   "metadata": {},
   "outputs": [],
   "source": [
    "#df = pd.read_csv(\"C:\\Users\\barsilla\\Desktop\\Project 1\\Customers.csv\", engine='python', encoding=\"ISO-8859-1\")\n",
    "df = pd.read_csv(\"C:\\\\Users\\\\barsilla\\\\Desktop\\\\Project 1\\\\Customers.csv\", engine='python', encoding=\"ISO-8859-1\")\n",
    "df.head()"
   ]
  },
  {
   "cell_type": "code",
   "execution_count": null,
   "metadata": {},
   "outputs": [],
   "source": [
    "df.dtypes"
   ]
  },
  {
   "cell_type": "code",
   "execution_count": null,
   "metadata": {},
   "outputs": [],
   "source": [
    "df.isnull().sum()"
   ]
  },
  {
   "cell_type": "code",
   "execution_count": 15,
   "metadata": {},
   "outputs": [
    {
     "data": {
      "text/plain": [
       "np.int64(0)"
      ]
     },
     "execution_count": 15,
     "metadata": {},
     "output_type": "execute_result"
    }
   ],
   "source": [
    "df.duplicated().sum()"
   ]
  },
  {
   "cell_type": "code",
   "execution_count": 17,
   "metadata": {},
   "outputs": [],
   "source": [
    "df.fillna(\"\",inplace=True)"
   ]
  },
  {
   "cell_type": "code",
   "execution_count": null,
   "metadata": {},
   "outputs": [],
   "source": [
    "df.isnull().sum()"
   ]
  },
  {
   "cell_type": "code",
   "execution_count": null,
   "metadata": {},
   "outputs": [],
   "source": [
    "df.dtypes"
   ]
  },
  {
   "cell_type": "code",
   "execution_count": 18,
   "metadata": {},
   "outputs": [
    {
     "data": {
      "text/plain": [
       "dtype('<M8[ns]')"
      ]
     },
     "execution_count": 18,
     "metadata": {},
     "output_type": "execute_result"
    }
   ],
   "source": [
    "df['Birthday'] = pd.to_datetime(df['Birthday'])\n",
    "df['Birthday'].dtype"
   ]
  },
  {
   "cell_type": "code",
   "execution_count": null,
   "metadata": {},
   "outputs": [],
   "source": [
    "df['Zip Code'].unique()"
   ]
  },
  {
   "cell_type": "code",
   "execution_count": null,
   "metadata": {},
   "outputs": [],
   "source": [
    "df.info()"
   ]
  },
  {
   "cell_type": "code",
   "execution_count": null,
   "metadata": {},
   "outputs": [],
   "source": [
    "df['State Code'].fillna(\"\", inplace=True)"
   ]
  },
  {
   "cell_type": "code",
   "execution_count": null,
   "metadata": {},
   "outputs": [],
   "source": [
    "df.columns"
   ]
  },
  {
   "cell_type": "code",
   "execution_count": null,
   "metadata": {},
   "outputs": [],
   "source": [
    "datas = df.values.tolist()\n",
    "datas"
   ]
  },
  {
   "cell_type": "code",
   "execution_count": null,
   "metadata": {},
   "outputs": [],
   "source": [
    "pip install mysql-connector-python"
   ]
  },
  {
   "cell_type": "code",
   "execution_count": 4,
   "metadata": {},
   "outputs": [],
   "source": [
    "import mysql.connector"
   ]
  },
  {
   "cell_type": "code",
   "execution_count": 5,
   "metadata": {},
   "outputs": [],
   "source": [
    "mydb = mysql.connector.connect(host=\"localhost\",\n",
    "                               username=\"root\",\n",
    "                               password=\"Barsilla9722!\",\n",
    "                               database=\"project1\")\n",
    "cursor = mydb.cursor()"
   ]
  },
  {
   "cell_type": "code",
   "execution_count": 15,
   "metadata": {},
   "outputs": [],
   "source": [
    "create_query = '''create table if not exists Customers(CustomerKey int,\n",
    "                                        Gender varchar(40),\n",
    "                                        Name varchar(100),\n",
    "                                        City varchar(40),\n",
    "                                        State_Code varchar(40),\n",
    "                                        State varchar(40),\n",
    "                                        Zip_Code varchar(40),\n",
    "                                        Country varchar(40),\n",
    "                                        Continent varchar(40),\n",
    "                                        Birthday date)'''\n",
    "cursor.execute(create_query)\n",
    "mydb.commit()"
   ]
  },
  {
   "cell_type": "code",
   "execution_count": 23,
   "metadata": {},
   "outputs": [],
   "source": [
    "insert_query = '''insert into Customers(CustomerKey,\n",
    "                                        Gender,\n",
    "                                        Name,\n",
    "                                        City,\n",
    "                                        State_Code,\n",
    "                                        State,\n",
    "                                        Zip_Code,\n",
    "                                        Country,\n",
    "                                        Continent,\n",
    "                                        Birthday)\n",
    "                                        \n",
    "                                        values(%s,%s,%s,%s,%s,%s,%s,%s,%s,%s)'''\n",
    "cursor.executemany(insert_query, datas)\n",
    "mydb.commit()"
   ]
  },
  {
   "cell_type": "code",
   "execution_count": 2,
   "metadata": {},
   "outputs": [],
   "source": [
    "import pandas as pd"
   ]
  },
  {
   "cell_type": "code",
   "execution_count": null,
   "metadata": {},
   "outputs": [],
   "source": [
    "productsdf = pd.read_csv(\"C:\\\\Users\\\\barsilla\\\\Desktop\\\\Project 1\\\\Products.csv\", engine='python', encoding=\"ISO-8859-1\")\n",
    "productsdf.head(115)"
   ]
  },
  {
   "cell_type": "code",
   "execution_count": null,
   "metadata": {},
   "outputs": [],
   "source": [
    "productsdf.info()"
   ]
  },
  {
   "cell_type": "code",
   "execution_count": null,
   "metadata": {},
   "outputs": [],
   "source": [
    "productsdf.columns"
   ]
  },
  {
   "cell_type": "code",
   "execution_count": 18,
   "metadata": {},
   "outputs": [
    {
     "data": {
      "text/plain": [
       "np.int64(0)"
      ]
     },
     "execution_count": 18,
     "metadata": {},
     "output_type": "execute_result"
    }
   ],
   "source": [
    "productsdf.duplicated().sum()"
   ]
  },
  {
   "cell_type": "code",
   "execution_count": 25,
   "metadata": {},
   "outputs": [],
   "source": [
    "product_create_query = '''create table if not exists Products(ProductKey int,\n",
    "                                        Product_Name varchar(250),\n",
    "                                        Brand varchar(40),\n",
    "                                        Color varchar(20),\n",
    "                                        Unit_Cost_USD varchar(15),\n",
    "                                        Unit_Price_USD varchar(15),\n",
    "                                        SubcategoryKey int,\n",
    "                                        Subcategory varchar(40),\n",
    "                                        CategoryKey int,\n",
    "                                        Category varchar(40))'''\n",
    "cursor.execute(product_create_query)\n",
    "mydb.commit()"
   ]
  },
  {
   "cell_type": "code",
   "execution_count": null,
   "metadata": {},
   "outputs": [],
   "source": [
    "productdatas = productsdf.values.tolist()\n",
    "productdatas"
   ]
  },
  {
   "cell_type": "code",
   "execution_count": 27,
   "metadata": {},
   "outputs": [],
   "source": [
    "product_insert_query = '''insert into Products(ProductKey,\n",
    "                                        Product_Name,\n",
    "                                        Brand,\n",
    "                                        Color,\n",
    "                                        Unit_Cost_USD,\n",
    "                                        Unit_Price_USD,\n",
    "                                        SubcategoryKey,\n",
    "                                        Subcategory,\n",
    "                                        CategoryKey,\n",
    "                                        Category)\n",
    "                                        \n",
    "                                        values(%s,%s,%s,%s,%s,%s,%s,%s,%s,%s)'''\n",
    "cursor.executemany(product_insert_query, productdatas)\n",
    "mydb.commit()"
   ]
  },
  {
   "cell_type": "code",
   "execution_count": null,
   "metadata": {},
   "outputs": [],
   "source": [
    "salesdf = pd.read_csv(\"C:\\\\Users\\\\barsilla\\\\Desktop\\\\Project 1\\\\Sales.csv\", engine='python', encoding=\"ISO-8859-1\")\n",
    "salesdf.head(20)"
   ]
  },
  {
   "cell_type": "code",
   "execution_count": null,
   "metadata": {},
   "outputs": [],
   "source": [
    "salesdf.info()"
   ]
  },
  {
   "cell_type": "code",
   "execution_count": 48,
   "metadata": {},
   "outputs": [],
   "source": [
    "#salesdf['Delivery Date'].fillna(\"\", inplace=True)\n",
    "salesdf.fillna(\"\",inplace=True)"
   ]
  },
  {
   "cell_type": "code",
   "execution_count": 37,
   "metadata": {},
   "outputs": [
    {
     "data": {
      "text/plain": [
       "dtype('<M8[ns]')"
      ]
     },
     "execution_count": 37,
     "metadata": {},
     "output_type": "execute_result"
    }
   ],
   "source": [
    "salesdf['Delivery Date'] = pd.to_datetime(salesdf['Delivery Date'])\n",
    "salesdf['Order Date'] = pd.to_datetime(salesdf['Order Date'])\n",
    "salesdf['Delivery Date'].dtype"
   ]
  },
  {
   "cell_type": "code",
   "execution_count": 32,
   "metadata": {},
   "outputs": [
    {
     "data": {
      "text/plain": [
       "np.int64(0)"
      ]
     },
     "execution_count": 32,
     "metadata": {},
     "output_type": "execute_result"
    }
   ],
   "source": [
    "salesdf.duplicated().sum()"
   ]
  },
  {
   "cell_type": "code",
   "execution_count": null,
   "metadata": {},
   "outputs": [],
   "source": [
    "salesdatas = salesdf.values.tolist()\n",
    "salesdatas"
   ]
  },
  {
   "cell_type": "code",
   "execution_count": 50,
   "metadata": {},
   "outputs": [],
   "source": [
    "sales_create_query = '''create table if not exists Sales(Order_Number int,\n",
    "                                        Line_Item int,\n",
    "                                        Order_Date date,\n",
    "                                        Delivery_Date date,\n",
    "                                        CustomerKey int,\n",
    "                                        StoreKey int,\n",
    "                                        ProductKey int,\n",
    "                                        Quantity int,\n",
    "                                        Currency_Code varchar(40))'''\n",
    "cursor.execute(sales_create_query)\n",
    "mydb.commit()"
   ]
  },
  {
   "cell_type": "code",
   "execution_count": 54,
   "metadata": {},
   "outputs": [],
   "source": [
    "sales_insert_query = '''insert into Sales(Order_Number,\n",
    "                                        Line_Item,\n",
    "                                        Order_Date,\n",
    "                                        Delivery_Date,\n",
    "                                        CustomerKey,\n",
    "                                        StoreKey,\n",
    "                                        ProductKey,\n",
    "                                        Quantity,\n",
    "                                        Currency_Code)\n",
    "                                        \n",
    "                                        values(%s,%s,%s,%s,%s,%s,%s,%s,%s)'''\n",
    "cursor.executemany(sales_insert_query, salesdatas)\n",
    "mydb.commit()"
   ]
  },
  {
   "cell_type": "code",
   "execution_count": null,
   "metadata": {},
   "outputs": [],
   "source": [
    "storesdf = pd.read_csv(\"C:\\\\Users\\\\barsilla\\\\Desktop\\\\Project 1\\\\Stores.csv\", engine='python', encoding=\"ISO-8859-1\")\n",
    "storesdf.head(20)"
   ]
  },
  {
   "cell_type": "code",
   "execution_count": null,
   "metadata": {},
   "outputs": [],
   "source": [
    "storesdf.info()"
   ]
  },
  {
   "cell_type": "code",
   "execution_count": null,
   "metadata": {},
   "outputs": [],
   "source": [
    "storesdf.fillna(\"\",inplace=True)"
   ]
  },
  {
   "cell_type": "code",
   "execution_count": 58,
   "metadata": {},
   "outputs": [],
   "source": [
    "storesdf['Open Date'] = pd.to_datetime(storesdf['Open Date'])"
   ]
  },
  {
   "cell_type": "code",
   "execution_count": 63,
   "metadata": {},
   "outputs": [],
   "source": [
    "storesdf['Square Meters'] = pd.to_numeric(storesdf['Square Meters'], errors='coerce')\n",
    "storesdf['Square Meters'] = storesdf['Square Meters'].fillna(0.0)\n",
    "storesdf['Square Meters'] = storesdf['Square Meters'].astype(float)"
   ]
  },
  {
   "cell_type": "code",
   "execution_count": null,
   "metadata": {},
   "outputs": [],
   "source": [
    "storesdf.columns"
   ]
  },
  {
   "cell_type": "code",
   "execution_count": 60,
   "metadata": {},
   "outputs": [
    {
     "data": {
      "text/plain": [
       "np.int64(0)"
      ]
     },
     "execution_count": 60,
     "metadata": {},
     "output_type": "execute_result"
    }
   ],
   "source": [
    "storesdf.duplicated().sum()"
   ]
  },
  {
   "cell_type": "code",
   "execution_count": null,
   "metadata": {},
   "outputs": [],
   "source": [
    "storesdatas = storesdf.values.tolist()\n",
    "storesdatas"
   ]
  },
  {
   "cell_type": "code",
   "execution_count": 65,
   "metadata": {},
   "outputs": [],
   "source": [
    "stores_create_query = '''create table if not exists Stores(StoreKey int,\n",
    "                                        Country varchar(40),\n",
    "                                        State varchar(40),\n",
    "                                        Square_Meters decimal,\n",
    "                                        Open_Date date)'''\n",
    "cursor.execute(stores_create_query)\n",
    "mydb.commit()"
   ]
  },
  {
   "cell_type": "code",
   "execution_count": 67,
   "metadata": {},
   "outputs": [],
   "source": [
    "stores_insert_query = '''insert into Stores(StoreKey,\n",
    "                                        Country,\n",
    "                                        State,\n",
    "                                        Square_Meters,\n",
    "                                        Open_Date)\n",
    "                                        \n",
    "                                        values(%s,%s,%s,%s,%s)'''\n",
    "cursor.executemany(stores_insert_query, storesdatas)\n",
    "mydb.commit()"
   ]
  },
  {
   "cell_type": "code",
   "execution_count": 1,
   "metadata": {},
   "outputs": [],
   "source": [
    "import pandas as pd"
   ]
  },
  {
   "cell_type": "code",
   "execution_count": null,
   "metadata": {},
   "outputs": [],
   "source": [
    "exchangeratesdf = pd.read_csv(\"C:\\\\Users\\\\barsilla\\\\Desktop\\\\Project 1\\\\Exchange_Rates.csv\", engine='python', encoding=\"ISO-8859-1\")\n",
    "exchangeratesdf.head(20)"
   ]
  },
  {
   "cell_type": "code",
   "execution_count": null,
   "metadata": {},
   "outputs": [],
   "source": [
    "exchangeratesdf.info()"
   ]
  },
  {
   "cell_type": "code",
   "execution_count": 3,
   "metadata": {},
   "outputs": [],
   "source": [
    "exchangeratesdf['Date'] = pd.to_datetime(exchangeratesdf['Date'])"
   ]
  },
  {
   "cell_type": "code",
   "execution_count": 5,
   "metadata": {},
   "outputs": [
    {
     "data": {
      "text/plain": [
       "Index(['Date', 'Currency', 'Exchange'], dtype='object')"
      ]
     },
     "execution_count": 5,
     "metadata": {},
     "output_type": "execute_result"
    }
   ],
   "source": [
    "exchangeratesdf.columns"
   ]
  },
  {
   "cell_type": "code",
   "execution_count": 8,
   "metadata": {},
   "outputs": [
    {
     "data": {
      "text/plain": [
       "np.int64(0)"
      ]
     },
     "execution_count": 8,
     "metadata": {},
     "output_type": "execute_result"
    }
   ],
   "source": [
    "exchangeratesdf.duplicated().sum()"
   ]
  },
  {
   "cell_type": "code",
   "execution_count": null,
   "metadata": {},
   "outputs": [],
   "source": [
    "exchangeratesdatas = exchangeratesdf.values.tolist()\n",
    "exchangeratesdatas"
   ]
  },
  {
   "cell_type": "code",
   "execution_count": 5,
   "metadata": {},
   "outputs": [],
   "source": [
    "import mysql.connector\n",
    "\n",
    "mydb = mysql.connector.connect(host=\"localhost\",\n",
    "                               username=\"root\",\n",
    "                               password=\"Barsilla9722!\",\n",
    "                               database=\"project1\")\n",
    "cursor = mydb.cursor()"
   ]
  },
  {
   "cell_type": "code",
   "execution_count": 6,
   "metadata": {},
   "outputs": [],
   "source": [
    "exchange_rates_create_query = '''create table if not exists ExchangeRates(Date date,\n",
    "                                        Currency varchar(40),\n",
    "                                        Exchange float)'''\n",
    "cursor.execute(exchange_rates_create_query)\n",
    "mydb.commit()"
   ]
  },
  {
   "cell_type": "code",
   "execution_count": 7,
   "metadata": {},
   "outputs": [],
   "source": [
    "exchange_rates_insert_query = '''insert into ExchangeRates(Date,\n",
    "                                        Currency,\n",
    "                                        Exchange)\n",
    "                                        \n",
    "                                        values(%s,%s,%s)'''\n",
    "cursor.executemany(exchange_rates_insert_query, exchangeratesdatas)\n",
    "mydb.commit()"
   ]
  }
 ],
 "metadata": {
  "kernelspec": {
   "display_name": ".venv",
   "language": "python",
   "name": "python3"
  },
  "language_info": {
   "codemirror_mode": {
    "name": "ipython",
    "version": 3
   },
   "file_extension": ".py",
   "mimetype": "text/x-python",
   "name": "python",
   "nbconvert_exporter": "python",
   "pygments_lexer": "ipython3",
   "version": "3.13.1"
  }
 },
 "nbformat": 4,
 "nbformat_minor": 2
}
